{
  "nbformat": 4,
  "nbformat_minor": 0,
  "metadata": {
    "colab": {
      "provenance": [],
      "authorship_tag": "ABX9TyMSt/6fBM9WD9MoGtytCqxQ",
      "include_colab_link": true
    },
    "kernelspec": {
      "name": "python3",
      "display_name": "Python 3"
    },
    "language_info": {
      "name": "python"
    }
  },
  "cells": [
    {
      "cell_type": "markdown",
      "metadata": {
        "id": "view-in-github",
        "colab_type": "text"
      },
      "source": [
        "<a href=\"https://colab.research.google.com/github/Pir-Mughair/Project_PCA/blob/main/Project.ipynb\" target=\"_parent\"><img src=\"https://colab.research.google.com/assets/colab-badge.svg\" alt=\"Open In Colab\"/></a>"
      ]
    },
    {
      "cell_type": "code",
      "source": [
        "pip install scikit-learn"
      ],
      "metadata": {
        "colab": {
          "base_uri": "https://localhost:8080/"
        },
        "id": "lGmDx0hSlFBl",
        "outputId": "1011bf91-a2c1-40ef-85a0-a0fc97779a85"
      },
      "execution_count": 2,
      "outputs": [
        {
          "output_type": "stream",
          "name": "stdout",
          "text": [
            "Requirement already satisfied: scikit-learn in /usr/local/lib/python3.10/dist-packages (1.2.2)\n",
            "Requirement already satisfied: numpy>=1.17.3 in /usr/local/lib/python3.10/dist-packages (from scikit-learn) (1.25.2)\n",
            "Requirement already satisfied: scipy>=1.3.2 in /usr/local/lib/python3.10/dist-packages (from scikit-learn) (1.11.4)\n",
            "Requirement already satisfied: joblib>=1.1.1 in /usr/local/lib/python3.10/dist-packages (from scikit-learn) (1.3.2)\n",
            "Requirement already satisfied: threadpoolctl>=2.0.0 in /usr/local/lib/python3.10/dist-packages (from scikit-learn) (3.3.0)\n"
          ]
        }
      ]
    },
    {
      "cell_type": "code",
      "source": [
        "pip install pandas"
      ],
      "metadata": {
        "colab": {
          "base_uri": "https://localhost:8080/"
        },
        "id": "dOKKULqQPpzG",
        "outputId": "071d0053-dc74-440b-b4d1-07672027a794"
      },
      "execution_count": 3,
      "outputs": [
        {
          "output_type": "stream",
          "name": "stdout",
          "text": [
            "Requirement already satisfied: pandas in /usr/local/lib/python3.10/dist-packages (1.5.3)\n",
            "Requirement already satisfied: python-dateutil>=2.8.1 in /usr/local/lib/python3.10/dist-packages (from pandas) (2.8.2)\n",
            "Requirement already satisfied: pytz>=2020.1 in /usr/local/lib/python3.10/dist-packages (from pandas) (2023.4)\n",
            "Requirement already satisfied: numpy>=1.21.0 in /usr/local/lib/python3.10/dist-packages (from pandas) (1.25.2)\n",
            "Requirement already satisfied: six>=1.5 in /usr/local/lib/python3.10/dist-packages (from python-dateutil>=2.8.1->pandas) (1.16.0)\n"
          ]
        }
      ]
    },
    {
      "cell_type": "code",
      "source": [
        "pip install tabulate"
      ],
      "metadata": {
        "colab": {
          "base_uri": "https://localhost:8080/"
        },
        "id": "yZ0rzdxVFSJX",
        "outputId": "8e74d340-a809-41dc-d26d-c14bcc76f7ce"
      },
      "execution_count": 4,
      "outputs": [
        {
          "output_type": "stream",
          "name": "stdout",
          "text": [
            "Requirement already satisfied: tabulate in /usr/local/lib/python3.10/dist-packages (0.9.0)\n"
          ]
        }
      ]
    },
    {
      "cell_type": "code",
      "source": [
        "import pandas as pd\n",
        "import numpy as np\n",
        "\n",
        "# Load the dataset\n",
        "url = r'https://raw.githubusercontent.com/apogiatzis/breast-cancer-azure-ml-notebook/master/breast-cancer-data.csv'\n",
        "df = pd.read_csv(url)\n",
        "\n",
        "# Drop columns that are not needed for training\n",
        "df.drop(['id'], axis=1, inplace=True)\n",
        "\n",
        "df = df.fillna(0)\n",
        "\n",
        "# Encode categorical variable 'diagnosis'\n",
        "df['diagnosis'] = df['diagnosis'].map({'M': 1, 'B': 0})\n",
        "\n",
        "# Split the dataset into features and target variable\n",
        "X = df.drop('diagnosis', axis=1)\n",
        "y = df['diagnosis']"
      ],
      "metadata": {
        "id": "LsikJBIvUZ-1"
      },
      "execution_count": 5,
      "outputs": []
    },
    {
      "cell_type": "code",
      "source": [
        "np.unique(y)"
      ],
      "metadata": {
        "colab": {
          "base_uri": "https://localhost:8080/"
        },
        "id": "SydPeDFyUdcf",
        "outputId": "9025393b-3fb5-4c56-d65b-89c86392b8ac"
      },
      "execution_count": 6,
      "outputs": [
        {
          "output_type": "execute_result",
          "data": {
            "text/plain": [
              "array([0, 1])"
            ]
          },
          "metadata": {},
          "execution_count": 6
        }
      ]
    },
    {
      "cell_type": "code",
      "source": [
        "df['diagnosis'].value_counts()"
      ],
      "metadata": {
        "colab": {
          "base_uri": "https://localhost:8080/"
        },
        "id": "85mFt7feUmUf",
        "outputId": "d2a11a0a-3742-457e-df2f-50fac71b852e"
      },
      "execution_count": 7,
      "outputs": [
        {
          "output_type": "execute_result",
          "data": {
            "text/plain": [
              "0    357\n",
              "1    212\n",
              "Name: diagnosis, dtype: int64"
            ]
          },
          "metadata": {},
          "execution_count": 7
        }
      ]
    },
    {
      "cell_type": "markdown",
      "source": [
        "# Accuracy of original data"
      ],
      "metadata": {
        "id": "BJcpvB3kwU98"
      }
    },
    {
      "cell_type": "markdown",
      "source": [
        "# Logistic Regression"
      ],
      "metadata": {
        "id": "h9jjaLpI6te2"
      }
    },
    {
      "cell_type": "code",
      "source": [
        "import pandas as pd\n",
        "from sklearn.model_selection import train_test_split\n",
        "from sklearn.linear_model import LogisticRegression\n",
        "from sklearn.ensemble import RandomForestClassifier\n",
        "from sklearn.neighbors import KNeighborsClassifier\n",
        "from sklearn.tree import DecisionTreeClassifier\n",
        "from sklearn.naive_bayes import GaussianNB\n",
        "from sklearn.svm import SVC\n",
        "from sklearn.decomposition import PCA\n",
        "from sklearn.discriminant_analysis import LinearDiscriminantAnalysis as LDA\n",
        "from sklearn.metrics import accuracy_score, precision_score, recall_score, f1_score\n",
        "\n",
        "# Load the dataset\n",
        "df = pd.read_csv(url)\n",
        "\n",
        "# Drop columns that are not needed for training\n",
        "df.drop(['id'], axis=1, inplace=True)\n",
        "df = df.fillna(0)\n",
        "# Encode categorical variable 'diagnosis'\n",
        "df['diagnosis'] = df['diagnosis'].map({'M': 1, 'B': 0})\n",
        "\n",
        "# Split the dataset into features and target variable\n",
        "X = df.drop('diagnosis', axis=1)\n",
        "y = df['diagnosis']\n",
        "\n",
        "# Split the dataset into training and test sets\n",
        "X_train, X_test, y_train, y_test = train_test_split(X, y, test_size=0.2, random_state=42)\n",
        "\n",
        "# Train a logistic regression model\n",
        "clf = LogisticRegression(random_state=42)\n",
        "clf.fit(X_train, y_train)\n",
        "\n",
        "# Predict on the test set\n",
        "y_pred = clf.predict(X_test)\n",
        "\n",
        "# Calculate accuracy\n",
        "accuracy = accuracy_score(y_test, y_pred)\n",
        "\n",
        "# Calculate precision, recall, and F1 score separately\n",
        "precision = precision_score(y_test, y_pred)\n",
        "recall = recall_score(y_test, y_pred)\n",
        "f1 = f1_score(y_test, y_pred)\n",
        "\n",
        "# Round off to 2 decimal places\n",
        "rounded_Accuracy = round(accuracy, 2)\n",
        "rounded_Precision = round(precision, 2)\n",
        "rounded_Recall = round(recall, 2)\n",
        "rounded_F1_score = round(f1, 2)\n",
        "\n",
        "print(\"Original Accuracy:\", accuracy, \"and\" \" Rounded Accuracy:\", rounded_Accuracy)\n",
        "print(\"Original Precision:\", precision, \"and\" \" Rounded Precision:\", rounded_Precision)\n",
        "print(\"Recall:\", recall, \"and\" \" Rounded Recall:\", rounded_Recall)\n",
        "print(\"F1_score:\", f1, \"and\" \" Rounded F1_score:\", rounded_F1_score)"
      ],
      "metadata": {
        "id": "zM8pP6Tm16Uw",
        "colab": {
          "base_uri": "https://localhost:8080/"
        },
        "outputId": "e4506431-cdb6-4d00-bb87-3a52cd68c2e6"
      },
      "execution_count": 8,
      "outputs": [
        {
          "output_type": "stream",
          "name": "stdout",
          "text": [
            "Original Accuracy: 0.9649122807017544 and Rounded Accuracy: 0.96\n",
            "Original Precision: 0.975609756097561 and Rounded Precision: 0.98\n",
            "Recall: 0.9302325581395349 and Rounded Recall: 0.93\n",
            "F1_score: 0.9523809523809524 and Rounded F1_score: 0.95\n"
          ]
        },
        {
          "output_type": "stream",
          "name": "stderr",
          "text": [
            "/usr/local/lib/python3.10/dist-packages/sklearn/linear_model/_logistic.py:458: ConvergenceWarning: lbfgs failed to converge (status=1):\n",
            "STOP: TOTAL NO. of ITERATIONS REACHED LIMIT.\n",
            "\n",
            "Increase the number of iterations (max_iter) or scale the data as shown in:\n",
            "    https://scikit-learn.org/stable/modules/preprocessing.html\n",
            "Please also refer to the documentation for alternative solver options:\n",
            "    https://scikit-learn.org/stable/modules/linear_model.html#logistic-regression\n",
            "  n_iter_i = _check_optimize_result(\n"
          ]
        }
      ]
    },
    {
      "cell_type": "markdown",
      "source": [
        "# Random Forest\n"
      ],
      "metadata": {
        "id": "TEGv8jOg61iN"
      }
    },
    {
      "cell_type": "code",
      "source": [
        "# Train a Random Forest model\n",
        "clf = RandomForestClassifier(random_state=42)\n",
        "clf.fit(X_train, y_train)\n",
        "\n",
        "# Predict on the test set\n",
        "y_pred = clf.predict(X_test)\n",
        "\n",
        "# Calculate accuracy\n",
        "accuracy = accuracy_score(y_test, y_pred)\n",
        "\n",
        "# Calculate precision, recall, and F1 score separately\n",
        "precision = precision_score(y_test, y_pred)\n",
        "recall = recall_score(y_test, y_pred)\n",
        "f1 = f1_score(y_test, y_pred)\n",
        "\n",
        "# Round off to 2 decimal places\n",
        "rounded_Accuracy = round(accuracy, 2)\n",
        "rounded_Precision = round(precision, 2)\n",
        "rounded_Recall = round(recall, 2)\n",
        "rounded_F1_score = round(f1, 2)\n",
        "\n",
        "print(\"Original Accuracy:\", accuracy, \"and\" \" Rounded Accuracy:\", rounded_Accuracy)\n",
        "print(\"Original Precision:\", precision, \"and\" \" Rounded Precision:\", rounded_Precision)\n",
        "print(\"Recall:\", recall, \"and\" \" Rounded Recall:\", rounded_Recall)\n",
        "print(\"F1_score:\", f1, \"and\" \" Rounded F1_score:\", rounded_F1_score)"
      ],
      "metadata": {
        "colab": {
          "base_uri": "https://localhost:8080/"
        },
        "id": "d4M6JLX-xyOO",
        "outputId": "b243739e-4bd7-4f07-aa97-c672789a7b47"
      },
      "execution_count": 9,
      "outputs": [
        {
          "output_type": "stream",
          "name": "stdout",
          "text": [
            "Original Accuracy: 0.9649122807017544 and Rounded Accuracy: 0.96\n",
            "Original Precision: 0.975609756097561 and Rounded Precision: 0.98\n",
            "Recall: 0.9302325581395349 and Rounded Recall: 0.93\n",
            "F1_score: 0.9523809523809524 and Rounded F1_score: 0.95\n"
          ]
        }
      ]
    },
    {
      "cell_type": "markdown",
      "source": [
        "# K Nearest Neighbor"
      ],
      "metadata": {
        "id": "YOrlevPX6__g"
      }
    },
    {
      "cell_type": "code",
      "source": [
        "# Train a KNN model\n",
        "clf = KNeighborsClassifier()\n",
        "clf.fit(X_train, y_train)\n",
        "\n",
        "# Predict on the test set\n",
        "y_pred = clf.predict(X_test)\n",
        "\n",
        "# Calculate accuracy\n",
        "accuracy = accuracy_score(y_test, y_pred)\n",
        "\n",
        "\n",
        "# Calculate precision, recall, and F1 score separately\n",
        "precision = precision_score(y_test, y_pred)\n",
        "recall = recall_score(y_test, y_pred)\n",
        "f1 = f1_score(y_test, y_pred)\n",
        "\n",
        "# Round off to 2 decimal places\n",
        "rounded_Accuracy = round(accuracy, 2)\n",
        "rounded_Precision = round(precision, 2)\n",
        "rounded_Recall = round(recall, 2)\n",
        "rounded_F1_score = round(f1, 2)\n",
        "\n",
        "print(\"Original Accuracy:\", accuracy, \"and\" \" Rounded Accuracy:\", rounded_Accuracy)\n",
        "print(\"Original Precision:\", precision, \"and\" \" Rounded Precision:\", rounded_Precision)\n",
        "print(\"Recall:\", recall, \"and\" \" Rounded Recall:\", rounded_Recall)\n",
        "print(\"F1_score:\", f1, \"and\" \" Rounded F1_score:\", rounded_F1_score)"
      ],
      "metadata": {
        "colab": {
          "base_uri": "https://localhost:8080/"
        },
        "id": "Bj6u4HlD1NAg",
        "outputId": "8294be3c-594f-4750-9492-bb16af30c653"
      },
      "execution_count": 10,
      "outputs": [
        {
          "output_type": "stream",
          "name": "stdout",
          "text": [
            "Original Accuracy: 0.956140350877193 and Rounded Accuracy: 0.96\n",
            "Original Precision: 1.0 and Rounded Precision: 1.0\n",
            "Recall: 0.8837209302325582 and Rounded Recall: 0.88\n",
            "F1_score: 0.9382716049382717 and Rounded F1_score: 0.94\n"
          ]
        }
      ]
    },
    {
      "cell_type": "markdown",
      "source": [
        "# Decision Tree"
      ],
      "metadata": {
        "id": "35X-re9w7HI0"
      }
    },
    {
      "cell_type": "code",
      "source": [
        "# Train a Decision Tree model\n",
        "clf = DecisionTreeClassifier(random_state=42)\n",
        "clf.fit(X_train, y_train)\n",
        "\n",
        "# Predict on the test set\n",
        "y_pred = clf.predict(X_test)\n",
        "\n",
        "# Calculate accuracy\n",
        "accuracy = accuracy_score(y_test, y_pred)\n",
        "\n",
        "\n",
        "# Calculate precision, recall, and F1 score separately\n",
        "precision = precision_score(y_test, y_pred)\n",
        "recall = recall_score(y_test, y_pred)\n",
        "f1 = f1_score(y_test, y_pred)\n",
        "\n",
        "# Round off to 2 decimal places\n",
        "rounded_Accuracy = round(accuracy, 2)\n",
        "rounded_Precision = round(precision, 2)\n",
        "rounded_Recall = round(recall, 2)\n",
        "rounded_F1_score = round(f1, 2)\n",
        "\n",
        "print(\"Original Accuracy:\", accuracy, \"and\" \" Rounded Accuracy:\", rounded_Accuracy)\n",
        "print(\"Original Precision:\", precision, \"and\" \" Rounded Precision:\", rounded_Precision)\n",
        "print(\"Recall:\", recall, \"and\" \" Rounded Recall:\", rounded_Recall)\n",
        "print(\"F1_score:\", f1, \"and\" \" Rounded F1_score:\", rounded_F1_score)"
      ],
      "metadata": {
        "colab": {
          "base_uri": "https://localhost:8080/"
        },
        "id": "PKeR3Sxr5e9T",
        "outputId": "cace30c4-7b0a-44d3-bab4-00f3e7f6a43b"
      },
      "execution_count": 11,
      "outputs": [
        {
          "output_type": "stream",
          "name": "stdout",
          "text": [
            "Original Accuracy: 0.9298245614035088 and Rounded Accuracy: 0.93\n",
            "Original Precision: 0.9069767441860465 and Rounded Precision: 0.91\n",
            "Recall: 0.9069767441860465 and Rounded Recall: 0.91\n",
            "F1_score: 0.9069767441860465 and Rounded F1_score: 0.91\n"
          ]
        }
      ]
    },
    {
      "cell_type": "markdown",
      "source": [
        "# Naive Bayes"
      ],
      "metadata": {
        "id": "poSMGbD57OKg"
      }
    },
    {
      "cell_type": "code",
      "source": [
        "# Train a Naive Bayes model\n",
        "clf = GaussianNB()\n",
        "clf.fit(X_train, y_train)\n",
        "\n",
        "# Predict on the test set\n",
        "y_pred = clf.predict(X_test)\n",
        "\n",
        "# Calculate accuracy\n",
        "accuracy = accuracy_score(y_test, y_pred)\n",
        "\n",
        "\n",
        "# Calculate precision, recall, and F1 score separately\n",
        "precision = precision_score(y_test, y_pred)\n",
        "recall = recall_score(y_test, y_pred)\n",
        "f1 = f1_score(y_test, y_pred)\n",
        "\n",
        "# Round off to 2 decimal places\n",
        "rounded_Accuracy = round(accuracy, 2)\n",
        "rounded_Precision = round(precision, 2)\n",
        "rounded_Recall = round(recall, 2)\n",
        "rounded_F1_score = round(f1, 2)\n",
        "\n",
        "print(\"Original Accuracy:\", accuracy, \"and\" \" Rounded Accuracy:\", rounded_Accuracy)\n",
        "print(\"Original Precision:\", precision, \"and\" \" Rounded Precision:\", rounded_Precision)\n",
        "print(\"Recall:\", recall, \"and\" \" Rounded Recall:\", rounded_Recall)\n",
        "print(\"F1_score:\", f1, \"and\" \" Rounded F1_score:\", rounded_F1_score)"
      ],
      "metadata": {
        "colab": {
          "base_uri": "https://localhost:8080/"
        },
        "id": "j9JYG0945kD6",
        "outputId": "002bc40e-6cc6-41c9-986d-2bd62cbcd460"
      },
      "execution_count": 12,
      "outputs": [
        {
          "output_type": "stream",
          "name": "stdout",
          "text": [
            "Original Accuracy: 0.9736842105263158 and Rounded Accuracy: 0.97\n",
            "Original Precision: 1.0 and Rounded Precision: 1.0\n",
            "Recall: 0.9302325581395349 and Rounded Recall: 0.93\n",
            "F1_score: 0.963855421686747 and Rounded F1_score: 0.96\n"
          ]
        }
      ]
    },
    {
      "cell_type": "markdown",
      "source": [
        "# Support Vector Machine"
      ],
      "metadata": {
        "id": "zz0ZYA_w7VYC"
      }
    },
    {
      "cell_type": "code",
      "source": [
        "# Train an SVM model\n",
        "clf = SVC()\n",
        "clf.fit(X_train, y_train)\n",
        "\n",
        "# Predict on the test set\n",
        "y_pred = clf.predict(X_test)\n",
        "\n",
        "# Calculate accuracy\n",
        "accuracy = accuracy_score(y_test, y_pred)\n",
        "\n",
        "\n",
        "# Calculate precision, recall, and F1 score separately\n",
        "precision = precision_score(y_test, y_pred)\n",
        "recall = recall_score(y_test, y_pred)\n",
        "f1 = f1_score(y_test, y_pred)\n",
        "\n",
        "# Round off to 2 decimal places\n",
        "rounded_Accuracy = round(accuracy, 2)\n",
        "rounded_Precision = round(precision, 2)\n",
        "rounded_Recall = round(recall, 2)\n",
        "rounded_F1_score = round(f1, 2)\n",
        "\n",
        "print(\"Original Accuracy:\", accuracy, \"and\" \" Rounded Accuracy:\", rounded_Accuracy)\n",
        "print(\"Original Precision:\", precision, \"and\" \" Rounded Precision:\", rounded_Precision)\n",
        "print(\"Recall:\", recall, \"and\" \" Rounded Recall:\", rounded_Recall)\n",
        "print(\"F1_score:\", f1, \"and\" \" Rounded F1_score:\", rounded_F1_score)"
      ],
      "metadata": {
        "colab": {
          "base_uri": "https://localhost:8080/"
        },
        "id": "IX7yjmSR5nnF",
        "outputId": "ce23dd55-a2e0-4720-8d28-26d95b79f39e"
      },
      "execution_count": 13,
      "outputs": [
        {
          "output_type": "stream",
          "name": "stdout",
          "text": [
            "Original Accuracy: 0.9473684210526315 and Rounded Accuracy: 0.95\n",
            "Original Precision: 1.0 and Rounded Precision: 1.0\n",
            "Recall: 0.8604651162790697 and Rounded Recall: 0.86\n",
            "F1_score: 0.9249999999999999 and Rounded F1_score: 0.92\n"
          ]
        }
      ]
    },
    {
      "cell_type": "markdown",
      "source": [
        "# PCA apply on LR"
      ],
      "metadata": {
        "id": "FP6Hz6hcNmMG"
      }
    },
    {
      "cell_type": "code",
      "source": [
        "import pandas as pd\n",
        "from sklearn.model_selection import train_test_split\n",
        "from sklearn.preprocessing import StandardScaler\n",
        "from sklearn.decomposition import PCA\n",
        "from sklearn.linear_model import LogisticRegression\n",
        "from sklearn.metrics import accuracy_score, precision_score, recall_score, f1_score\n",
        "\n",
        "# Load the dataset\n",
        "df = pd.read_csv(url)\n",
        "\n",
        "# Drop columns that are not needed for training\n",
        "df.drop(['id'], axis=1, inplace=True)\n",
        "df = df.fillna(0)\n",
        "# Encode categorical variable 'diagnosis'\n",
        "df['diagnosis'] = df['diagnosis'].map({'M': 1, 'B': 0})\n",
        "\n",
        "# Split the dataset into features and target variable\n",
        "X = df.drop('diagnosis', axis=1)\n",
        "y = df['diagnosis']\n",
        "\n",
        "# Split the dataset into training and test sets\n",
        "X_train, X_test, y_train, y_test = train_test_split(X, y, test_size=0.2, random_state=42)\n",
        "\n",
        "# Scale the features\n",
        "scaler = StandardScaler()\n",
        "X_train_scaled = scaler.fit_transform(X_train)\n",
        "X_test_scaled = scaler.transform(X_test)\n",
        "\n",
        "# Apply PCA\n",
        "pca = PCA(n_components=5)  # Reduce to 1 principal component for example\n",
        "X_train_pca = pca.fit_transform(X_train_scaled)\n",
        "X_test_pca = pca.transform(X_test_scaled)\n",
        "\n",
        "# Train a logistic regression model on the PCA-transformed data\n",
        "clf = LogisticRegression(random_state=42)\n",
        "clf.fit(X_train_pca, y_train)\n",
        "\n",
        "# Predict on the test set\n",
        "y_pred = clf.predict(X_test_pca)\n",
        "\n",
        "# Calculate accuracy\n",
        "accuracy = accuracy_score(y_test, y_pred)\n",
        "\n",
        "# Calculate precision, recall, and F1 score separately\n",
        "precision = precision_score(y_test, y_pred)\n",
        "recall = recall_score(y_test, y_pred)\n",
        "f1 = f1_score(y_test, y_pred)\n",
        "\n",
        "# Round off to 2 decimal places\n",
        "rounded_accuracy = round(accuracy, 2)\n",
        "rounded_precision = round(precision, 2)\n",
        "rounded_recall = round(recall, 2)\n",
        "rounded_f1_score = round(f1, 2)\n",
        "\n",
        "print(\"Original Accuracy:\", accuracy, \"and Rounded Accuracy:\", rounded_accuracy)\n",
        "print(\"Original Precision:\", precision, \"and Rounded Precision:\", rounded_precision)\n",
        "print(\"Recall:\", recall, \"and Rounded Recall:\", rounded_recall)\n",
        "print(\"F1_score:\", f1, \"and Rounded F1_score:\", rounded_f1_score)\n"
      ],
      "metadata": {
        "colab": {
          "base_uri": "https://localhost:8080/"
        },
        "id": "E00EiLS7Nlp8",
        "outputId": "fcacf002-fe06-44a2-d024-8435e15716f0"
      },
      "execution_count": 14,
      "outputs": [
        {
          "output_type": "stream",
          "name": "stdout",
          "text": [
            "Original Accuracy: 0.9824561403508771 and Rounded Accuracy: 0.98\n",
            "Original Precision: 0.9767441860465116 and Rounded Precision: 0.98\n",
            "Recall: 0.9767441860465116 and Rounded Recall: 0.98\n",
            "F1_score: 0.9767441860465116 and Rounded F1_score: 0.98\n"
          ]
        }
      ]
    },
    {
      "cell_type": "markdown",
      "source": [
        "# Apply PCA on RF"
      ],
      "metadata": {
        "id": "i08OnoW8Och8"
      }
    },
    {
      "cell_type": "code",
      "source": [
        "# Load the dataset\n",
        "df = pd.read_csv(url)\n",
        "\n",
        "# Drop columns that are not needed for training\n",
        "df.drop(['id'], axis=1, inplace=True)\n",
        "\n",
        "# Encode categorical variable 'diagnosis'\n",
        "df['diagnosis'] = df['diagnosis'].map({'M': 1, 'B': 0})\n",
        "df = df.fillna(0)\n",
        "# Split the dataset into features and target variable\n",
        "X = df.drop('diagnosis', axis=1)\n",
        "y = df['diagnosis']\n",
        "\n",
        "# Split the dataset into training and test sets\n",
        "X_train, X_test, y_train, y_test = train_test_split(X, y, test_size=0.2, random_state=42)\n",
        "\n",
        "# Scale the features\n",
        "scaler = StandardScaler()\n",
        "X_train_scaled = scaler.fit_transform(X_train)\n",
        "X_test_scaled = scaler.transform(X_test)\n",
        "\n",
        "# Apply PCA\n",
        "pca = PCA(n_components=5)  # Reduce to 1 principal component for example\n",
        "X_train_pca = pca.fit_transform(X_train_scaled)\n",
        "X_test_pca = pca.transform(X_test_scaled)\n",
        "\n",
        "# Train a Random Forest model\n",
        "clf = RandomForestClassifier(random_state=42)\n",
        "clf.fit(X_train_pca, y_train)\n",
        "\n",
        "# Predict on the test set\n",
        "y_pred = clf.predict(X_test_pca)\n",
        "\n",
        "# Calculate accuracy\n",
        "accuracy = accuracy_score(y_test, y_pred)\n",
        "\n",
        "# Calculate precision, recall, and F1 score separately\n",
        "precision = precision_score(y_test, y_pred)\n",
        "recall = recall_score(y_test, y_pred)\n",
        "f1 = f1_score(y_test, y_pred)\n",
        "\n",
        "# Round off to 2 decimal places\n",
        "rounded_accuracy = round(accuracy, 2)\n",
        "rounded_precision = round(precision, 2)\n",
        "rounded_recall = round(recall, 2)\n",
        "rounded_f1_score = round(f1, 2)\n",
        "\n",
        "print(\"Original Accuracy:\", accuracy, \"and Rounded Accuracy:\", rounded_accuracy)\n",
        "print(\"Original Precision:\", precision, \"and Rounded Precision:\", rounded_precision)\n",
        "print(\"Recall:\", recall, \"and Rounded Recall:\", rounded_recall)\n",
        "print(\"F1_score:\", f1, \"and Rounded F1_score:\", rounded_f1_score)\n"
      ],
      "metadata": {
        "colab": {
          "base_uri": "https://localhost:8080/"
        },
        "id": "VcOKxfyzOb4q",
        "outputId": "c7aea223-ba24-4781-8bf9-70250d3dafd3"
      },
      "execution_count": 15,
      "outputs": [
        {
          "output_type": "stream",
          "name": "stdout",
          "text": [
            "Original Accuracy: 0.956140350877193 and Rounded Accuracy: 0.96\n",
            "Original Precision: 0.9318181818181818 and Rounded Precision: 0.93\n",
            "Recall: 0.9534883720930233 and Rounded Recall: 0.95\n",
            "F1_score: 0.942528735632184 and Rounded F1_score: 0.94\n"
          ]
        }
      ]
    },
    {
      "cell_type": "markdown",
      "source": [
        "# Apply PCA on KNN"
      ],
      "metadata": {
        "id": "xVZREBDcPQbM"
      }
    },
    {
      "cell_type": "code",
      "source": [
        "# Load the dataset\n",
        "df = pd.read_csv(url)\n",
        "\n",
        "# Drop columns that are not needed for training\n",
        "df.drop(['id'], axis=1, inplace=True)\n",
        "\n",
        "# Encode categorical variable 'diagnosis'\n",
        "df['diagnosis'] = df['diagnosis'].map({'M': 1, 'B': 0})\n",
        "df = df.fillna(0)\n",
        "# Split the dataset into features and target variable\n",
        "X = df.drop('diagnosis', axis=1)\n",
        "y = df['diagnosis']\n",
        "\n",
        "# Split the dataset into training and test sets\n",
        "X_train, X_test, y_train, y_test = train_test_split(X, y, test_size=0.2, random_state=42)\n",
        "\n",
        "# Scale the features\n",
        "scaler = StandardScaler()\n",
        "X_train_scaled = scaler.fit_transform(X_train)\n",
        "X_test_scaled = scaler.transform(X_test)\n",
        "\n",
        "# Apply PCA\n",
        "pca = PCA(n_components=1)  # Reduce to 1 principal component for example\n",
        "X_train_pca = pca.fit_transform(X_train_scaled)\n",
        "X_test_pca = pca.transform(X_test_scaled)\n",
        "\n",
        "# Train a KNN model\n",
        "clf = KNeighborsClassifier()\n",
        "clf.fit(X_train_pca, y_train)\n",
        "\n",
        "# Predict on the test set\n",
        "y_pred = clf.predict(X_test_pca)\n",
        "\n",
        "# Calculate precision, recall, and F1 score separately\n",
        "precision = precision_score(y_test, y_pred)\n",
        "recall = recall_score(y_test, y_pred)\n",
        "f1 = f1_score(y_test, y_pred)\n",
        "\n",
        "# Round off to 2 decimal places\n",
        "rounded_Accuracy = round(accuracy, 2)\n",
        "rounded_Precision = round(precision, 2)\n",
        "rounded_Recall = round(recall, 2)\n",
        "rounded_F1_score = round(f1, 2)\n",
        "\n",
        "print(\"Original Accuracy:\", accuracy, \"and\" \" Rounded Accuracy:\", rounded_Accuracy)\n",
        "print(\"Original Precision:\", precision, \"and\" \" Rounded Precision:\", rounded_Precision)\n",
        "print(\"Recall:\", recall, \"and\" \" Rounded Recall:\", rounded_Recall)\n",
        "print(\"F1_score:\", f1, \"and\" \" Rounded F1_score:\", rounded_F1_score)"
      ],
      "metadata": {
        "colab": {
          "base_uri": "https://localhost:8080/"
        },
        "id": "B4JPMUPkPWrR",
        "outputId": "6d25037b-6029-4e20-8155-53f636ce5f7d"
      },
      "execution_count": 16,
      "outputs": [
        {
          "output_type": "stream",
          "name": "stdout",
          "text": [
            "Original Accuracy: 0.956140350877193 and Rounded Accuracy: 0.96\n",
            "Original Precision: 1.0 and Rounded Precision: 1.0\n",
            "Recall: 0.8604651162790697 and Rounded Recall: 0.86\n",
            "F1_score: 0.9249999999999999 and Rounded F1_score: 0.92\n"
          ]
        }
      ]
    },
    {
      "cell_type": "markdown",
      "source": [
        "# Apply PCA on DT"
      ],
      "metadata": {
        "id": "v2oGY2V7PXiS"
      }
    },
    {
      "cell_type": "code",
      "source": [
        "# Load the dataset\n",
        "df = pd.read_csv(url)\n",
        "\n",
        "# Drop columns that are not needed for training\n",
        "df.drop(['id'], axis=1, inplace=True)\n",
        "\n",
        "# Encode categorical variable 'diagnosis'\n",
        "df['diagnosis'] = df['diagnosis'].map({'M': 1, 'B': 0})\n",
        "df = df.fillna(0)\n",
        "# Split the dataset into features and target variable\n",
        "X = df.drop('diagnosis', axis=1)\n",
        "y = df['diagnosis']\n",
        "\n",
        "# Split the dataset into training and test sets\n",
        "X_train, X_test, y_train, y_test = train_test_split(X, y, test_size=0.2, random_state=42)\n",
        "\n",
        "# Scale the features\n",
        "scaler = StandardScaler()\n",
        "X_train_scaled = scaler.fit_transform(X_train)\n",
        "X_test_scaled = scaler.transform(X_test)\n",
        "\n",
        "# Apply PCA\n",
        "pca = PCA(n_components=5)  # Reduce to 1 principal component for example\n",
        "X_train_pca = pca.fit_transform(X_train_scaled)\n",
        "X_test_pca = pca.transform(X_test_scaled)\n",
        "\n",
        "# Train a Decision Tree model\n",
        "clf = DecisionTreeClassifier(random_state=42)\n",
        "clf.fit(X_train_pca, y_train)\n",
        "\n",
        "# Predict on the test set\n",
        "y_pred = clf.predict(X_test_pca)\n",
        "\n",
        "# Calculate precision, recall, and F1 score separately\n",
        "precision = precision_score(y_test, y_pred)\n",
        "recall = recall_score(y_test, y_pred)\n",
        "f1 = f1_score(y_test, y_pred)\n",
        "\n",
        "# Round off to 2 decimal places\n",
        "rounded_Accuracy = round(accuracy, 2)\n",
        "rounded_Precision = round(precision, 2)\n",
        "rounded_Recall = round(recall, 2)\n",
        "rounded_F1_score = round(f1, 2)\n",
        "\n",
        "print(\"Original Accuracy:\", accuracy, \"and\" \" Rounded Accuracy:\", rounded_Accuracy)\n",
        "print(\"Original Precision:\", precision, \"and\" \" Rounded Precision:\", rounded_Precision)\n",
        "print(\"Recall:\", recall, \"and\" \" Rounded Recall:\", rounded_Recall)\n",
        "print(\"F1_score:\", f1, \"and\" \" Rounded F1_score:\", rounded_F1_score)"
      ],
      "metadata": {
        "colab": {
          "base_uri": "https://localhost:8080/"
        },
        "id": "F-AHGRbPPeBi",
        "outputId": "be96e5e6-c5ff-4f62-bd4f-93849e6f7266"
      },
      "execution_count": 17,
      "outputs": [
        {
          "output_type": "stream",
          "name": "stdout",
          "text": [
            "Original Accuracy: 0.956140350877193 and Rounded Accuracy: 0.96\n",
            "Original Precision: 0.9302325581395349 and Rounded Precision: 0.93\n",
            "Recall: 0.9302325581395349 and Rounded Recall: 0.93\n",
            "F1_score: 0.9302325581395349 and Rounded F1_score: 0.93\n"
          ]
        }
      ]
    },
    {
      "cell_type": "markdown",
      "source": [
        "# Apply PCA on NB"
      ],
      "metadata": {
        "id": "wL7kSXLgPeqK"
      }
    },
    {
      "cell_type": "code",
      "source": [
        "# Load the datase\n",
        "df = pd.read_csv(url)\n",
        "\n",
        "# Drop columns that are not needed for training\n",
        "df.drop(['id'], axis=1, inplace=True)\n",
        "\n",
        "# Encode categorical variable 'diagnosis'\n",
        "df['diagnosis'] = df['diagnosis'].map({'M': 1, 'B': 0})\n",
        "df = df.fillna(0)\n",
        "# Split the dataset into features and target variable\n",
        "X = df.drop('diagnosis', axis=1)\n",
        "y = df['diagnosis']\n",
        "\n",
        "# Split the dataset into training and test sets\n",
        "X_train, X_test, y_train, y_test = train_test_split(X, y, test_size=0.2, random_state=42)\n",
        "\n",
        "# Scale the features\n",
        "scaler = StandardScaler()\n",
        "X_train_scaled = scaler.fit_transform(X_train)\n",
        "X_test_scaled = scaler.transform(X_test)\n",
        "\n",
        "# Apply PCA\n",
        "pca = PCA(n_components=5)  # Reduce to 1 principal component for example\n",
        "X_train_pca = pca.fit_transform(X_train_scaled)\n",
        "X_test_pca = pca.transform(X_test_scaled)\n",
        "\n",
        "# Train a Naive Bayes model\n",
        "clf = GaussianNB()\n",
        "clf.fit(X_train_pca, y_train)\n",
        "\n",
        "# Predict on the test set\n",
        "y_pred = clf.predict(X_test_pca)\n",
        "\n",
        "# Calculate precision, recall, and F1 score separately\n",
        "precision = precision_score(y_test, y_pred)\n",
        "recall = recall_score(y_test, y_pred)\n",
        "f1 = f1_score(y_test, y_pred)\n",
        "\n",
        "# Round off to 2 decimal places\n",
        "rounded_Accuracy = round(accuracy, 2)\n",
        "rounded_Precision = round(precision, 2)\n",
        "rounded_Recall = round(recall, 2)\n",
        "rounded_F1_score = round(f1, 2)\n",
        "\n",
        "print(\"Original Accuracy:\", accuracy, \"and\" \" Rounded Accuracy:\", rounded_Accuracy)\n",
        "print(\"Original Precision:\", precision, \"and\" \" Rounded Precision:\", rounded_Precision)\n",
        "print(\"Recall:\", recall, \"and\" \" Rounded Recall:\", rounded_Recall)\n",
        "print(\"F1_score:\", f1, \"and\" \" Rounded F1_score:\", rounded_F1_score)\n"
      ],
      "metadata": {
        "colab": {
          "base_uri": "https://localhost:8080/"
        },
        "id": "-Q85ZIZPPiNN",
        "outputId": "5ae3c53e-130e-4ded-d61b-01a9986b3d67"
      },
      "execution_count": 18,
      "outputs": [
        {
          "output_type": "stream",
          "name": "stdout",
          "text": [
            "Original Accuracy: 0.956140350877193 and Rounded Accuracy: 0.96\n",
            "Original Precision: 0.9512195121951219 and Rounded Precision: 0.95\n",
            "Recall: 0.9069767441860465 and Rounded Recall: 0.91\n",
            "F1_score: 0.9285714285714286 and Rounded F1_score: 0.93\n"
          ]
        }
      ]
    },
    {
      "cell_type": "markdown",
      "source": [
        "#Apply PCA on SVM"
      ],
      "metadata": {
        "id": "TZS7p0_EPi8Z"
      }
    },
    {
      "cell_type": "code",
      "source": [
        "# Load the dataset\n",
        "df = pd.read_csv(url)\n",
        "\n",
        "# Drop columns that are not needed for training\n",
        "df.drop(['id'], axis=1, inplace=True)\n",
        "df = df.fillna(0)\n",
        "# Encode categorical variable 'diagnosis'\n",
        "df['diagnosis'] = df['diagnosis'].map({'M': 1, 'B': 0})\n",
        "df = df.fillna(0)\n",
        "# Split the dataset into features and target variable\n",
        "X = df.drop('diagnosis', axis=1)\n",
        "y = df['diagnosis']\n",
        "\n",
        "# Split the dataset into training and test sets\n",
        "X_train, X_test, y_train, y_test = train_test_split(X, y, test_size=0.2, random_state=42)\n",
        "\n",
        "# Scale the features\n",
        "scaler = StandardScaler()\n",
        "X_train_scaled = scaler.fit_transform(X_train)\n",
        "X_test_scaled = scaler.transform(X_test)\n",
        "\n",
        "# Apply PCA\n",
        "pca = PCA(n_components=5)  # Reduce to 1 principal component for example\n",
        "X_train_pca = pca.fit_transform(X_train_scaled)\n",
        "X_test_pca = pca.transform(X_test_scaled)\n",
        "\n",
        "# Train an SVM model\n",
        "clf = SVC()\n",
        "clf.fit(X_train_pca, y_train)\n",
        "\n",
        "# Predict on the test set\n",
        "y_pred = clf.predict(X_test_pca)\n",
        "\n",
        "\n",
        "# Calculate precision, recall, and F1 score separately\n",
        "precision = precision_score(y_test, y_pred)\n",
        "recall = recall_score(y_test, y_pred)\n",
        "f1 = f1_score(y_test, y_pred)\n",
        "\n",
        "# Round off to 2 decimal places\n",
        "rounded_Accuracy = round(accuracy, 2)\n",
        "rounded_Precision = round(precision, 2)\n",
        "rounded_Recall = round(recall, 2)\n",
        "rounded_F1_score = round(f1, 2)\n",
        "\n",
        "print(\"Original Accuracy:\", accuracy, \"and\" \" Rounded Accuracy:\", rounded_Accuracy)\n",
        "print(\"Original Precision:\", precision, \"and\" \" Rounded Precision:\", rounded_Precision)\n",
        "print(\"Recall:\", recall, \"and\" \" Rounded Recall:\", rounded_Recall)\n",
        "print(\"F1_score:\", f1, \"and\" \" Rounded F1_score:\", rounded_F1_score)"
      ],
      "metadata": {
        "id": "DgI9lAbdPlqU",
        "colab": {
          "base_uri": "https://localhost:8080/"
        },
        "outputId": "bce65f94-074a-478b-f53d-d0378b740f8d"
      },
      "execution_count": 19,
      "outputs": [
        {
          "output_type": "stream",
          "name": "stdout",
          "text": [
            "Original Accuracy: 0.956140350877193 and Rounded Accuracy: 0.96\n",
            "Original Precision: 0.9534883720930233 and Rounded Precision: 0.95\n",
            "Recall: 0.9534883720930233 and Rounded Recall: 0.95\n",
            "F1_score: 0.9534883720930233 and Rounded F1_score: 0.95\n"
          ]
        }
      ]
    },
    {
      "cell_type": "markdown",
      "source": [
        "# LDA"
      ],
      "metadata": {
        "id": "_AlQKXcbQHFY"
      }
    },
    {
      "cell_type": "markdown",
      "source": [
        "# Apply LDA on LR"
      ],
      "metadata": {
        "id": "h69bUWMFymWl"
      }
    },
    {
      "cell_type": "code",
      "source": [
        "# Apply LDA\n",
        "lda = LDA(n_components=1)  # Reduce to 1 component for example\n",
        "X_lda = lda.fit_transform(X, y)\n",
        "\n",
        "# Split the dataset into training and test sets\n",
        "X_train, X_test, y_train, y_test = train_test_split(X_lda, y, test_size=0.2, random_state=42)\n",
        "\n",
        "# Train a logistic regression model on the LDA-transformed data\n",
        "clf = LogisticRegression(random_state=42)\n",
        "clf.fit(X_train, y_train)\n",
        "\n",
        "# Predict on the test set\n",
        "y_pred = clf.predict(X_test)\n",
        "\n",
        "# Calculate accuracy\n",
        "accuracy = accuracy_score(y_test, y_pred)\n",
        "\n",
        "\n",
        "# Round off to 2 decimal places\n",
        "rounded_Accuracy = round(accuracy, 2)\n",
        "rounded_Precision = round(precision, 2)\n",
        "rounded_Recall = round(recall, 2)\n",
        "rounded_F1_score = round(f1, 2)\n",
        "\n",
        "print(\"Original Accuracy:\", accuracy, \"and\" \" Rounded Accuracy:\", rounded_Accuracy)\n",
        "print(\"Original Precision:\", precision, \"and\" \" Rounded Precision:\", rounded_Precision)\n",
        "print(\"Recall:\", recall, \"and\" \" Rounded Recall:\", rounded_Recall)\n",
        "print(\"F1_score:\", f1, \"and\" \" Rounded F1_score:\", rounded_F1_score)"
      ],
      "metadata": {
        "colab": {
          "base_uri": "https://localhost:8080/"
        },
        "id": "ucdoUfoKexKS",
        "outputId": "316e8b6e-42c1-4d78-a327-c95843983a3c"
      },
      "execution_count": 20,
      "outputs": [
        {
          "output_type": "stream",
          "name": "stdout",
          "text": [
            "Original Accuracy: 0.9736842105263158 and Rounded Accuracy: 0.97\n",
            "Original Precision: 0.9534883720930233 and Rounded Precision: 0.95\n",
            "Recall: 0.9534883720930233 and Rounded Recall: 0.95\n",
            "F1_score: 0.9534883720930233 and Rounded F1_score: 0.95\n"
          ]
        }
      ]
    },
    {
      "cell_type": "markdown",
      "source": [
        "# Apply LDA on RF\n"
      ],
      "metadata": {
        "id": "W2EMWNJ0zEmL"
      }
    },
    {
      "cell_type": "code",
      "source": [
        "# Apply LDA\n",
        "lda = LDA(n_components=1)  # Reduce to 1 component for example\n",
        "X_lda = lda.fit_transform(X, y)\n",
        "\n",
        "# Split the dataset into training and test sets\n",
        "X_train, X_test, y_train, y_test = train_test_split(X_lda, y, test_size=0.2, random_state=42)\n",
        "\n",
        "# Train a Random Forest model\n",
        "clf = RandomForestClassifier(random_state=42)\n",
        "clf.fit(X_train, y_train)\n",
        "\n",
        "# Predict on the test set\n",
        "y_pred = clf.predict(X_test)\n",
        "\n",
        "# Calculate accuracy\n",
        "accuracy = accuracy_score(y_test, y_pred)\n",
        "\n",
        "\n",
        "# Round off to 2 decimal places\n",
        "rounded_Accuracy = round(accuracy, 2)\n",
        "rounded_Precision = round(precision, 2)\n",
        "rounded_Recall = round(recall, 2)\n",
        "rounded_F1_score = round(f1, 2)\n",
        "\n",
        "print(\"Original Accuracy:\", accuracy, \"and\" \" Rounded Accuracy:\", rounded_Accuracy)\n",
        "print(\"Original Precision:\", precision, \"and\" \" Rounded Precision:\", rounded_Precision)\n",
        "print(\"Recall:\", recall, \"and\" \" Rounded Recall:\", rounded_Recall)\n",
        "print(\"F1_score:\", f1, \"and\" \" Rounded F1_score:\", rounded_F1_score)\n"
      ],
      "metadata": {
        "colab": {
          "base_uri": "https://localhost:8080/"
        },
        "id": "pbXCIcxty_YH",
        "outputId": "25ee2dd7-7448-4784-bc81-2c85b3fbfeda"
      },
      "execution_count": 21,
      "outputs": [
        {
          "output_type": "stream",
          "name": "stdout",
          "text": [
            "Original Accuracy: 0.9736842105263158 and Rounded Accuracy: 0.97\n",
            "Original Precision: 0.9534883720930233 and Rounded Precision: 0.95\n",
            "Recall: 0.9534883720930233 and Rounded Recall: 0.95\n",
            "F1_score: 0.9534883720930233 and Rounded F1_score: 0.95\n"
          ]
        }
      ]
    },
    {
      "cell_type": "markdown",
      "source": [
        "# Apply LDA on KNN"
      ],
      "metadata": {
        "id": "B82T98ODzJJn"
      }
    },
    {
      "cell_type": "code",
      "source": [
        "# Apply LDA\n",
        "lda = LDA(n_components=1)  # Reduce to 1 component for example\n",
        "X_lda = lda.fit_transform(X, y)\n",
        "\n",
        "# Split the dataset into training and test sets\n",
        "X_train, X_test, y_train, y_test = train_test_split(X_lda, y, test_size=0.2, random_state=42)\n",
        "\n",
        "# Train a KNN model\n",
        "clf = KNeighborsClassifier()\n",
        "clf.fit(X_train, y_train)\n",
        "\n",
        "# Predict on the test set\n",
        "y_pred = clf.predict(X_test)\n",
        "\n",
        "# Calculate accuracy\n",
        "accuracy = accuracy_score(y_test, y_pred)\n",
        "\n",
        "\n",
        "# Round off to 2 decimal places\n",
        "rounded_Accuracy = round(accuracy, 2)\n",
        "rounded_Precision = round(precision, 2)\n",
        "rounded_Recall = round(recall, 2)\n",
        "rounded_F1_score = round(f1, 2)\n",
        "\n",
        "print(\"Original Accuracy:\", accuracy, \"and\" \" Rounded Accuracy:\", rounded_Accuracy)\n",
        "print(\"Original Precision:\", precision, \"and\" \" Rounded Precision:\", rounded_Precision)\n",
        "print(\"Recall:\", recall, \"and\" \" Rounded Recall:\", rounded_Recall)\n",
        "print(\"F1_score:\", f1, \"and\" \" Rounded F1_score:\", rounded_F1_score)\n"
      ],
      "metadata": {
        "colab": {
          "base_uri": "https://localhost:8080/"
        },
        "id": "PZ1XfGKHzDuT",
        "outputId": "fbde9788-166f-49cf-bd74-c7e80cdb0e48"
      },
      "execution_count": 22,
      "outputs": [
        {
          "output_type": "stream",
          "name": "stdout",
          "text": [
            "Original Accuracy: 0.9736842105263158 and Rounded Accuracy: 0.97\n",
            "Original Precision: 0.9534883720930233 and Rounded Precision: 0.95\n",
            "Recall: 0.9534883720930233 and Rounded Recall: 0.95\n",
            "F1_score: 0.9534883720930233 and Rounded F1_score: 0.95\n"
          ]
        }
      ]
    },
    {
      "cell_type": "markdown",
      "source": [
        "# Apply LDA on DT"
      ],
      "metadata": {
        "id": "iVmnnBHGztWl"
      }
    },
    {
      "cell_type": "code",
      "source": [
        "# Apply LDA\n",
        "lda = LDA(n_components=1)  # Reduce to 1 component for example\n",
        "X_lda = lda.fit_transform(X, y)\n",
        "\n",
        "# Split the dataset into training and test sets\n",
        "X_train, X_test, y_train, y_test = train_test_split(X_lda, y, test_size=0.2, random_state=42)\n",
        "\n",
        "# Train a Decision Tree model\n",
        "clf = DecisionTreeClassifier(random_state=42)\n",
        "clf.fit(X_train, y_train)\n",
        "\n",
        "# Predict on the test set\n",
        "y_pred = clf.predict(X_test)\n",
        "\n",
        "# Calculate accuracy\n",
        "accuracy = accuracy_score(y_test, y_pred)\n",
        "\n",
        "\n",
        "# Round off to 2 decimal places\n",
        "rounded_Accuracy = round(accuracy, 2)\n",
        "rounded_Precision = round(precision, 2)\n",
        "rounded_Recall = round(recall, 2)\n",
        "rounded_F1_score = round(f1, 2)\n",
        "\n",
        "print(\"Original Accuracy:\", accuracy, \"and\" \" Rounded Accuracy:\", rounded_Accuracy)\n",
        "print(\"Original Precision:\", precision, \"and\" \" Rounded Precision:\", rounded_Precision)\n",
        "print(\"Recall:\", recall, \"and\" \" Rounded Recall:\", rounded_Recall)\n",
        "print(\"F1_score:\", f1, \"and\" \" Rounded F1_score:\", rounded_F1_score)\n"
      ],
      "metadata": {
        "colab": {
          "base_uri": "https://localhost:8080/"
        },
        "id": "2-p_g8nozj0a",
        "outputId": "1532a87f-2348-43a9-c7c9-e12645316e84"
      },
      "execution_count": 23,
      "outputs": [
        {
          "output_type": "stream",
          "name": "stdout",
          "text": [
            "Original Accuracy: 0.9736842105263158 and Rounded Accuracy: 0.97\n",
            "Original Precision: 0.9534883720930233 and Rounded Precision: 0.95\n",
            "Recall: 0.9534883720930233 and Rounded Recall: 0.95\n",
            "F1_score: 0.9534883720930233 and Rounded F1_score: 0.95\n"
          ]
        }
      ]
    },
    {
      "cell_type": "markdown",
      "source": [
        "# Apply LDA on NB"
      ],
      "metadata": {
        "id": "7-OtUGldz09v"
      }
    },
    {
      "cell_type": "code",
      "source": [
        "# Apply LDA\n",
        "lda = LDA(n_components=1)  # Reduce to 1 component for example\n",
        "X_lda = lda.fit_transform(X, y)\n",
        "\n",
        "# Split the dataset into training and test sets\n",
        "X_train, X_test, y_train, y_test = train_test_split(X_lda, y, test_size=0.2, random_state=42)\n",
        "\n",
        "# Train a Naive Bayes model\n",
        "clf = GaussianNB()\n",
        "clf.fit(X_train, y_train)\n",
        "\n",
        "# Predict on the test set\n",
        "y_pred = clf.predict(X_test)\n",
        "\n",
        "# Calculate accuracy\n",
        "accuracy = accuracy_score(y_test, y_pred)\n",
        "\n",
        "\n",
        "# Round off to 2 decimal places\n",
        "rounded_Accuracy = round(accuracy, 2)\n",
        "rounded_Precision = round(precision, 2)\n",
        "rounded_Recall = round(recall, 2)\n",
        "rounded_F1_score = round(f1, 2)\n",
        "\n",
        "print(\"Original Accuracy:\", accuracy, \"and\" \" Rounded Accuracy:\", rounded_Accuracy)\n",
        "print(\"Original Precision:\", precision, \"and\" \" Rounded Precision:\", rounded_Precision)\n",
        "print(\"Recall:\", recall, \"and\" \" Rounded Recall:\", rounded_Recall)\n",
        "print(\"F1_score:\", f1, \"and\" \" Rounded F1_score:\", rounded_F1_score)\n"
      ],
      "metadata": {
        "colab": {
          "base_uri": "https://localhost:8080/"
        },
        "id": "LLinb5pNz3Pd",
        "outputId": "da30f3bc-3348-4547-b9bf-e66071f4b51f"
      },
      "execution_count": 24,
      "outputs": [
        {
          "output_type": "stream",
          "name": "stdout",
          "text": [
            "Original Accuracy: 0.9736842105263158 and Rounded Accuracy: 0.97\n",
            "Original Precision: 0.9534883720930233 and Rounded Precision: 0.95\n",
            "Recall: 0.9534883720930233 and Rounded Recall: 0.95\n",
            "F1_score: 0.9534883720930233 and Rounded F1_score: 0.95\n"
          ]
        }
      ]
    },
    {
      "cell_type": "markdown",
      "source": [
        "# Apply LDA on SVM"
      ],
      "metadata": {
        "id": "-53PMU5Yz3oU"
      }
    },
    {
      "cell_type": "code",
      "source": [
        "# Apply LDA\n",
        "lda = LDA(n_components=1)  # Reduce to 1 component for example\n",
        "X_lda = lda.fit_transform(X, y)\n",
        "\n",
        "# Split the dataset into training and test sets\n",
        "X_train, X_test, y_train, y_test = train_test_split(X_lda, y, test_size=0.2, random_state=42)\n",
        "\n",
        "# Train an SVM model\n",
        "clf = SVC()\n",
        "clf.fit(X_train, y_train)\n",
        "\n",
        "# Predict on the test set\n",
        "y_pred = clf.predict(X_test)\n",
        "\n",
        "# Calculate accuracy\n",
        "accuracy = accuracy_score(y_test, y_pred)\n",
        "\n",
        "\n",
        "# Round off to 2 decimal places\n",
        "rounded_Accuracy = round(accuracy, 2)\n",
        "rounded_Precision = round(precision, 2)\n",
        "rounded_Recall = round(recall, 2)\n",
        "rounded_F1_score = round(f1, 2)\n",
        "\n",
        "print(\"Original Accuracy:\", accuracy, \"and\" \" Rounded Accuracy:\", rounded_Accuracy)\n",
        "print(\"Original Precision:\", precision, \"and\" \" Rounded Precision:\", rounded_Precision)\n",
        "print(\"Recall:\", recall, \"and\" \" Rounded Recall:\", rounded_Recall)\n",
        "print(\"F1_score:\", f1, \"and\" \" Rounded F1_score:\", rounded_F1_score)\n"
      ],
      "metadata": {
        "colab": {
          "base_uri": "https://localhost:8080/"
        },
        "id": "_5wLV97gz5dT",
        "outputId": "010db912-1f3f-4e59-867f-7018fe2ec083"
      },
      "execution_count": 25,
      "outputs": [
        {
          "output_type": "stream",
          "name": "stdout",
          "text": [
            "Original Accuracy: 0.9736842105263158 and Rounded Accuracy: 0.97\n",
            "Original Precision: 0.9534883720930233 and Rounded Precision: 0.95\n",
            "Recall: 0.9534883720930233 and Rounded Recall: 0.95\n",
            "F1_score: 0.9534883720930233 and Rounded F1_score: 0.95\n"
          ]
        }
      ]
    },
    {
      "cell_type": "markdown",
      "source": [
        "#Accuracy of LR with PCA and LDA"
      ],
      "metadata": {
        "id": "un_T7eDgEoZ0"
      }
    },
    {
      "cell_type": "code",
      "source": [
        "import matplotlib.pyplot as plt\n",
        "\n",
        "# Data\n",
        "data = {\n",
        "    'Original Data': 0.96,\n",
        "    'PCA': 0.98,\n",
        "    'LDA': 0.97\n",
        "}\n",
        "\n",
        "# Creating the bar chart\n",
        "plt.figure(figsize=(10, 6))\n",
        "plt.bar(data.keys(), data.values(), color=['blue', 'green', 'red'])\n",
        "plt.xlabel('Data Preprocessing Techniques')\n",
        "plt.ylabel('Accuracy')\n",
        "plt.title('Accuracy of Logistic Regression')\n",
        "plt.ylim(0, 1)  # Set y-axis limit from 0.9 to 1 for better visualization\n",
        "plt.show()\n"
      ],
      "metadata": {
        "colab": {
          "base_uri": "https://localhost:8080/",
          "height": 620
        },
        "id": "le_-Xty_ChhM",
        "outputId": "b7c0bf62-ff0c-443f-bbb4-50a26ebe8d62"
      },
      "execution_count": 1,
      "outputs": [
        {
          "output_type": "stream",
          "name": "stderr",
          "text": [
            "<ipython-input-1-af81e5e7f4ca>:16: MatplotlibDeprecationWarning: Passing the emit parameter of set_ylim() positionally is deprecated since Matplotlib 3.6; the parameter will become keyword-only two minor releases later.\n",
            "  plt.ylim(0, 1, 0.05)  # Set y-axis limit from 0.9 to 1 for better visualization\n"
          ]
        },
        {
          "output_type": "display_data",
          "data": {
            "text/plain": [
              "<Figure size 1000x600 with 1 Axes>"
            ],
            "image/png": "[encoded data removed]"
          },
          "metadata": {}
        }
      ]
    },
    {
      "cell_type": "markdown",
      "source": [
        "#Accuracy of RF with PCA and LDA"
      ],
      "metadata": {
        "id": "nb_8gDC2Ekr-"
      }
    },
    {
      "cell_type": "code",
      "source": [
        "import matplotlib.pyplot as plt\n",
        "\n",
        "# Data\n",
        "data = {\n",
        "    'Original Data': 0.96,\n",
        "    'PCA': 0.96,\n",
        "    'LDA': 0.97\n",
        "}\n",
        "\n",
        "# Creating the bar chart\n",
        "plt.figure(figsize=(10, 6))\n",
        "plt.bar(data.keys(), data.values(), color=['blue', 'green', 'red'])\n",
        "plt.xlabel('Data Preprocessing Techniques')\n",
        "plt.ylabel('Accuracy')\n",
        "plt.title('Accuracy of Random Forest')\n",
        "plt.ylim(0, 1)  # Set y-axis limit from 0.9 to 1 for better visualization\n",
        "plt.show()\n"
      ],
      "metadata": {
        "colab": {
          "base_uri": "https://localhost:8080/",
          "height": 564
        },
        "id": "yw1KtfFoCnvk",
        "outputId": "31ed2d39-b232-4512-ca73-c209c8b76e18"
      },
      "execution_count": 26,
      "outputs": [
        {
          "output_type": "display_data",
          "data": {
            "text/plain": [
              "<Figure size 1000x600 with 1 Axes>"
            ],
            "image/png": "[encoded data removed]"
          },
          "metadata": {}
        }
      ]
    },
    {
      "cell_type": "markdown",
      "source": [
        "#Accuracy of KNN with PCA and LDA"
      ],
      "metadata": {
        "id": "fqxf-JyKEge5"
      }
    },
    {
      "cell_type": "code",
      "source": [
        "import matplotlib.pyplot as plt\n",
        "\n",
        "# Data\n",
        "data = {\n",
        "    'Original Data': 0.96,\n",
        "    'PCA': 0.96,\n",
        "    'LDA': 0.97\n",
        "}\n",
        "\n",
        "# Creating the bar chart\n",
        "plt.figure(figsize=(10, 6))\n",
        "plt.bar(data.keys(), data.values(), color=['blue', 'green', 'red'])\n",
        "plt.xlabel('Data Preprocessing Techniques')\n",
        "plt.ylabel('Accuracy')\n",
        "plt.title('Accuracy of K-Nearest Neighbor')\n",
        "plt.ylim(0, 1)  # Set y-axis limit from 0.9 to 1 for better visualization\n",
        "plt.show()\n"
      ],
      "metadata": {
        "colab": {
          "base_uri": "https://localhost:8080/",
          "height": 564
        },
        "id": "UIM19wQFDbOh",
        "outputId": "3b286073-b6dc-4171-81a2-2148a18e02fb"
      },
      "execution_count": 27,
      "outputs": [
        {
          "output_type": "display_data",
          "data": {
            "text/plain": [
              "<Figure size 1000x600 with 1 Axes>"
            ],
            "image/png": "[encoded data removed]"
          },
          "metadata": {}
        }
      ]
    },
    {
      "cell_type": "markdown",
      "source": [
        "#Accuracy of DT with PCA and LDA"
      ],
      "metadata": {
        "id": "C8mL-ALwEcyH"
      }
    },
    {
      "cell_type": "code",
      "source": [
        "import matplotlib.pyplot as plt\n",
        "\n",
        "# Data\n",
        "data = {\n",
        "    'Original Data': 0.93,\n",
        "    'PCA': 0.96,\n",
        "    'LDA': 0.97\n",
        "}\n",
        "\n",
        "# Creating the bar chart\n",
        "plt.figure(figsize=(10, 6))\n",
        "plt.bar(data.keys(), data.values(), color=['blue', 'green', 'red'])\n",
        "plt.xlabel('Data Preprocessing Techniques')\n",
        "plt.ylabel('Accuracy')\n",
        "plt.title('Accuracy of Decision Tree')\n",
        "plt.ylim(0, 1)  # Set y-axis limit from 0.9 to 1 for better visualization\n",
        "plt.show()\n"
      ],
      "metadata": {
        "colab": {
          "base_uri": "https://localhost:8080/",
          "height": 564
        },
        "id": "3RxqU7gCDsH3",
        "outputId": "b38669ad-abeb-4744-c155-9016561c0983"
      },
      "execution_count": 28,
      "outputs": [
        {
          "output_type": "display_data",
          "data": {
            "text/plain": [
              "<Figure size 1000x600 with 1 Axes>"
            ],
            "image/png": "[encoded data removed]"
          },
          "metadata": {}
        }
      ]
    },
    {
      "cell_type": "markdown",
      "source": [
        "#Accuracy of NB with PCA and LDA"
      ],
      "metadata": {
        "id": "AkFOXxuLEZUG"
      }
    },
    {
      "cell_type": "code",
      "source": [
        "import matplotlib.pyplot as plt\n",
        "\n",
        "# Data\n",
        "data = {\n",
        "    'Original Data': 0.97,\n",
        "    'PCA': 0.96,\n",
        "    'LDA': 0.97\n",
        "}\n",
        "\n",
        "# Creating the bar chart\n",
        "plt.figure(figsize=(10, 6))\n",
        "plt.bar(data.keys(), data.values(), color=['blue', 'green', 'red'])\n",
        "plt.xlabel('Data Preprocessing Techniques')\n",
        "plt.ylabel('Accuracy')\n",
        "plt.title('Accuracy of Naive Bayes')\n",
        "plt.ylim(0, 1)  # Set y-axis limit from 0.9 to 1 for better visualization\n",
        "plt.show()\n"
      ],
      "metadata": {
        "colab": {
          "base_uri": "https://localhost:8080/",
          "height": 564
        },
        "id": "OYCvsDnDD15l",
        "outputId": "0f6b4e22-7515-4fea-f2f5-f8eeb0d345ce"
      },
      "execution_count": 29,
      "outputs": [
        {
          "output_type": "display_data",
          "data": {
            "text/plain": [
              "<Figure size 1000x600 with 1 Axes>"
            ],
            "image/png": "[encoded data removed]"
          },
          "metadata": {}
        }
      ]
    },
    {
      "cell_type": "markdown",
      "source": [
        "#Accuracy of SVM with PCA and LDA"
      ],
      "metadata": {
        "id": "XYAFZ9EnEMeD"
      }
    },
    {
      "cell_type": "code",
      "source": [
        "import matplotlib.pyplot as plt\n",
        "\n",
        "# Data\n",
        "data = {\n",
        "    'Original Data': 0.95,\n",
        "    'PCA': 0.96,\n",
        "    'LDA': 0.97\n",
        "}\n",
        "\n",
        "# Creating the bar chart\n",
        "plt.figure(figsize=(10, 6))\n",
        "plt.bar(data.keys(), data.values(), color=['blue', 'green', 'red'])\n",
        "plt.xlabel('Data Preprocessing Techniques')\n",
        "plt.ylabel('Accuracy')\n",
        "plt.title('Accuracy of Support Vector Machine')\n",
        "plt.ylim(0, 1)  # Set y-axis limit from 0.9 to 1 for better visualization\n",
        "plt.show()\n"
      ],
      "metadata": {
        "colab": {
          "base_uri": "https://localhost:8080/",
          "height": 564
        },
        "id": "dSysGN0gD95S",
        "outputId": "007106bf-a8b1-4285-ba93-d96858581503"
      },
      "execution_count": 30,
      "outputs": [
        {
          "output_type": "display_data",
          "data": {
            "text/plain": [
              "<Figure size 1000x600 with 1 Axes>"
            ],
            "image/png": "[encoded data removed]"
          },
          "metadata": {}
        }
      ]
    },
    {
      "cell_type": "code",
      "source": [
        "import matplotlib.pyplot as plt\n",
        "\n",
        "# Data\n",
        "datasets = ['Original Data', 'PCA', 'LDA']\n",
        "algorithms = ['Logistic Regression', 'Random Forest', 'KNN', 'Decision Tree', 'Naïve Bayes', 'SVM']\n",
        "accuracies = [\n",
        "    [0.96, 0.96, 0.96, 0.93, 0.97, 0.95],\n",
        "    [0.98, 0.96, 0.96, 0.96, 0.96, 0.96],\n",
        "    [0.97, 0.97, 0.97, 0.97, 0.97, 0.97]\n",
        "]\n",
        "\n",
        "# Plotting\n",
        "fig, ax = plt.subplots(figsize=(12, 6))\n",
        "bar_width = 0.15\n",
        "index = range(len(algorithms))\n",
        "\n",
        "for i, dataset in enumerate(datasets):\n",
        "    plt.bar([p + i * bar_width for p in index], accuracies[i], bar_width, label=dataset)\n",
        "\n",
        "plt.xlabel('Algorithms')\n",
        "plt.ylabel('Accuracy')\n",
        "plt.title('Accuracy of Different Algorithms for Different Datasets')\n",
        "plt.xticks([p + bar_width for p in index], algorithms, rotation=45)\n",
        "plt.legend(title='Datasets', loc='center left', bbox_to_anchor=(1, 0.5), fontsize='small')\n",
        "plt.tight_layout()\n",
        "plt.show()\n"
      ],
      "metadata": {
        "id": "Wh6LNR1ZIXx4",
        "outputId": "d5d4feee-3507-4f81-92c2-3885b6d0e539",
        "colab": {
          "base_uri": "https://localhost:8080/",
          "height": 607
        }
      },
      "execution_count": 31,
      "outputs": [
        {
          "output_type": "display_data",
          "data": {
            "text/plain": [
              "<Figure size 1200x600 with 1 Axes>"
            ],
            "image/png": "[encoded data removed]"
          },
          "metadata": {}
        }
      ]
    }
  ]
}